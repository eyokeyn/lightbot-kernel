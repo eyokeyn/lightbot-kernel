{
 "cells": [
  {
   "cell_type": "code",
   "execution_count": 30,
   "id": "ed9fee85-ac8e-44d4-a46b-7ede663cf458",
   "metadata": {},
   "outputs": [
    {
     "ename": "SyntaxError",
     "evalue": "expected ':' (2590458026.py, line 48)",
     "output_type": "error",
     "traceback": [
      "\u001b[0;36m  Cell \u001b[0;32mIn[30], line 48\u001b[0;36m\u001b[0m\n\u001b[0;31m    elif key == \"*\"\u001b[0m\n\u001b[0m                   ^\u001b[0m\n\u001b[0;31mSyntaxError\u001b[0m\u001b[0;31m:\u001b[0m expected ':'\n"
     ]
    }
   ],
   "source": [
    "def lightbot(move_list):\n",
    "    \n",
    "    #   ^ move fw\n",
    "    #   @ sw light\n",
    "    #   < turn l\n",
    "    #   > turn r\n",
    "    #   * jump\n",
    "\n",
    "    ### GRID\n",
    "        \n",
    "    grid = [[0, 0, 0, 0, 0, 0, 0, 0, 0, 0],\n",
    "        [0, 0, 0, 0, 0, 0, 0, 0, 0, 0],\n",
    "        [0, 0, 0, 0, 0, 0, 0, 0, 0, 0],\n",
    "        [0, 0, 0, 0, 0, 0, 0, 0, 0, 0],\n",
    "        [0, 0, 0, 0, 0, 0, 0, 0, 0, 0],\n",
    "        [0, 0, 0, 0, 0, 0, 0, 0, 0, 0],\n",
    "        [0, 0, 0, 0, 0, 0, 0, 0, 0, 0],\n",
    "        [0, 0, 0, 0, 0, 0, 0, 0, 0, 0],\n",
    "        [0, 0, 0, 0, 0, 0, 0, 0, 0, 0],\n",
    "        [0, 0, 0, 0, 0, 0, 0, 0, 0, 0]]\n",
    "\n",
    "    ### STARTING POSITION AND DIRECTİON\n",
    "    x = 0\n",
    "    y = 0\n",
    "    x_dir, y_dir = 0, 0\n",
    "    \n",
    "    x_list = 100*[1, 0, -1, 0]\n",
    "    y_list = 100*[0, 1, 0, -1]\n",
    "\n",
    "\n",
    "    # CHECKING LIST\n",
    "    for key in move_list:\n",
    "        direction = [x_list[x_dir], y_list[y_dir]]\n",
    "        if key == \"^\":\n",
    "            x += direction[0]\n",
    "            y += direction[1]\n",
    "        elif key == \"@\":\n",
    "            if grid[9-y][0+x] == 0:\n",
    "                grid[9-y][0+x] = 1 \n",
    "            else:\n",
    "                grid[9-y][0+x] = 0\n",
    "        elif key == \"<\":\n",
    "            x_dir += 1\n",
    "            y_dir += 1\n",
    "        elif key == \">\":\n",
    "            x_dir -= 1\n",
    "            y_dir -= 1\n",
    "        elif key == \"*\":\n",
    "            pass\n",
    "        \n",
    "\n",
    "    print(grid)\n",
    "\n",
    "moves = \"^^^@^^<^^@^>^@>^^@\"\n",
    "lightbot(moves)\n",
    "\n",
    "\n"
   ]
  },
  {
   "cell_type": "code",
   "execution_count": null,
   "id": "df51e923-b52e-4df1-bd56-33cfa8d2e454",
   "metadata": {},
   "outputs": [],
   "source": [
    "[0, 0, 0, 0, 0, 0, 1, 0, 0, 0] \n",
    "[0, 0, 0, 0, 0, 1, 0, 0, 0, 0] \n",
    "[0, 0, 0, 0, 0, 0, 1, 0, 0, 0]\n",
    "[0, 0, 0, 1, 0, 0, 0, 0, 0, 0]"
   ]
  },
  {
   "cell_type": "code",
   "execution_count": null,
   "id": "af4c7c93-9149-40df-bd08-5738d941e1b3",
   "metadata": {},
   "outputs": [],
   "source": [
    "10 0-1 -10 01"
   ]
  }
 ],
 "metadata": {
  "kernelspec": {
   "display_name": "Python 3 (ipykernel)",
   "language": "python",
   "name": "python3"
  },
  "language_info": {
   "codemirror_mode": {
    "name": "ipython",
    "version": 3
   },
   "file_extension": ".py",
   "mimetype": "text/x-python",
   "name": "python",
   "nbconvert_exporter": "python",
   "pygments_lexer": "ipython3",
   "version": "3.10.12"
  }
 },
 "nbformat": 4,
 "nbformat_minor": 5
}
